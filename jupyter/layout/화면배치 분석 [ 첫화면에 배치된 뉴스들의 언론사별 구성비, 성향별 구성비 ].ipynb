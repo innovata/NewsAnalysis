{
 "cells": [
  {
   "cell_type": "code",
   "execution_count": 2,
   "metadata": {},
   "outputs": [],
   "source": [
    "# 프로젝트 라이브러리\n",
    "from thenews.__lib__ import *\n",
    "\n",
    "# 오픈 패키지\n",
    "import pandas as pd\n",
    "\n",
    "# 나의 패키지\n",
    "import __pymongo as mg\n",
    "\n",
    "# 프로젝트 라이브러리\n",
    "from NEWSPJT import *"
   ]
  },
  {
   "cell_type": "code",
   "execution_count": 3,
   "metadata": {},
   "outputs": [
    {
     "name": "stdout",
     "output_type": "stream",
     "text": [
      "\n",
      "============================================================find\n",
      "\n",
      "============================================================위치점유시간_0초_제거\n",
      "2749\n",
      "2263\n"
     ]
    }
   ],
   "source": [
    "df = Layout.analyzer.화면배치_위치별_뉴스의_체류시간_분석TBL_파싱로딩()"
   ]
  },
  {
   "cell_type": "code",
   "execution_count": 4,
   "metadata": {},
   "outputs": [
    {
     "data": {
      "text/html": [
       "<div>\n",
       "<style scoped>\n",
       "    .dataframe tbody tr th:only-of-type {\n",
       "        vertical-align: middle;\n",
       "    }\n",
       "\n",
       "    .dataframe tbody tr th {\n",
       "        vertical-align: top;\n",
       "    }\n",
       "\n",
       "    .dataframe thead th {\n",
       "        text-align: right;\n",
       "    }\n",
       "</style>\n",
       "<table border=\"1\" class=\"dataframe\">\n",
       "  <thead>\n",
       "    <tr style=\"text-align: right;\">\n",
       "      <th></th>\n",
       "      <th>뉴스제목</th>\n",
       "      <th>위치점유시간</th>\n",
       "      <th>위치</th>\n",
       "    </tr>\n",
       "  </thead>\n",
       "  <tbody>\n",
       "    <tr>\n",
       "      <th>0</th>\n",
       "      <td>박근혜 '특활비 1심' 징역형…민주 \"인과응보\" 한국 \"책임 통감\"</td>\n",
       "      <td>1667.147</td>\n",
       "      <td>네이버_모바일뉴스_홈:많이본뉴스:4:1:N</td>\n",
       "    </tr>\n",
       "  </tbody>\n",
       "</table>\n",
       "</div>"
      ],
      "text/plain": [
       "                                    뉴스제목    위치점유시간                       위치\n",
       "0  박근혜 '특활비 1심' 징역형…민주 \"인과응보\" 한국 \"책임 통감\"  1667.147  네이버_모바일뉴스_홈:많이본뉴스:4:1:N"
      ]
     },
     "execution_count": 4,
     "metadata": {},
     "output_type": "execute_result"
    }
   ],
   "source": [
    "df.head(1)"
   ]
  },
  {
   "cell_type": "code",
   "execution_count": 65,
   "metadata": {},
   "outputs": [
    {
     "data": {
      "text/html": [
       "<div>\n",
       "<style scoped>\n",
       "    .dataframe tbody tr th:only-of-type {\n",
       "        vertical-align: middle;\n",
       "    }\n",
       "\n",
       "    .dataframe tbody tr th {\n",
       "        vertical-align: top;\n",
       "    }\n",
       "\n",
       "    .dataframe thead th {\n",
       "        text-align: right;\n",
       "    }\n",
       "</style>\n",
       "<table border=\"1\" class=\"dataframe\">\n",
       "  <thead>\n",
       "    <tr style=\"text-align: right;\">\n",
       "      <th></th>\n",
       "      <th>뉴스제목</th>\n",
       "      <th>위치점유시간</th>\n",
       "    </tr>\n",
       "    <tr>\n",
       "      <th>위치</th>\n",
       "      <th></th>\n",
       "      <th></th>\n",
       "    </tr>\n",
       "  </thead>\n",
       "  <tbody>\n",
       "    <tr>\n",
       "      <th>네이버_모바일뉴스_홈:많이본뉴스:4:1:N</th>\n",
       "      <td>1</td>\n",
       "      <td>1</td>\n",
       "    </tr>\n",
       "    <tr>\n",
       "      <th>네이버_모바일뉴스_홈:많이본뉴스:4:2:N</th>\n",
       "      <td>1</td>\n",
       "      <td>1</td>\n",
       "    </tr>\n",
       "    <tr>\n",
       "      <th>네이버_모바일뉴스_홈:많이본뉴스:4:3:N</th>\n",
       "      <td>1</td>\n",
       "      <td>1</td>\n",
       "    </tr>\n",
       "    <tr>\n",
       "      <th>네이버_모바일뉴스_홈:많이본뉴스:4:4:N</th>\n",
       "      <td>1</td>\n",
       "      <td>1</td>\n",
       "    </tr>\n",
       "    <tr>\n",
       "      <th>네이버_모바일뉴스_홈:많이본뉴스:4:5:N</th>\n",
       "      <td>1</td>\n",
       "      <td>1</td>\n",
       "    </tr>\n",
       "    <tr>\n",
       "      <th>네이버_모바일뉴스_홈:많이본뉴스:4:6:N</th>\n",
       "      <td>1</td>\n",
       "      <td>1</td>\n",
       "    </tr>\n",
       "    <tr>\n",
       "      <th>네이버_모바일뉴스_홈:많이본뉴스:4:7:N</th>\n",
       "      <td>1</td>\n",
       "      <td>1</td>\n",
       "    </tr>\n",
       "    <tr>\n",
       "      <th>네이버_모바일뉴스_홈:많이본뉴스:4:8:N</th>\n",
       "      <td>1</td>\n",
       "      <td>1</td>\n",
       "    </tr>\n",
       "    <tr>\n",
       "      <th>네이버_모바일홈:문자형_뉴스리스트:1:1:Y</th>\n",
       "      <td>229</td>\n",
       "      <td>229</td>\n",
       "    </tr>\n",
       "    <tr>\n",
       "      <th>네이버_모바일홈:문자형_뉴스리스트:1:2:Y</th>\n",
       "      <td>271</td>\n",
       "      <td>271</td>\n",
       "    </tr>\n",
       "    <tr>\n",
       "      <th>네이버_모바일홈:문자형_뉴스리스트:1:3:Y</th>\n",
       "      <td>321</td>\n",
       "      <td>321</td>\n",
       "    </tr>\n",
       "    <tr>\n",
       "      <th>네이버_모바일홈:문자형_뉴스리스트:1:4:Y</th>\n",
       "      <td>369</td>\n",
       "      <td>369</td>\n",
       "    </tr>\n",
       "    <tr>\n",
       "      <th>네이버_모바일홈:문자형_뉴스리스트:1:5:Y</th>\n",
       "      <td>176</td>\n",
       "      <td>176</td>\n",
       "    </tr>\n",
       "    <tr>\n",
       "      <th>네이버_모바일홈:문자형_뉴스리스트:1:6:Y</th>\n",
       "      <td>208</td>\n",
       "      <td>208</td>\n",
       "    </tr>\n",
       "    <tr>\n",
       "      <th>네이버_모바일홈:문자형_뉴스리스트:1:7:Y</th>\n",
       "      <td>68</td>\n",
       "      <td>68</td>\n",
       "    </tr>\n",
       "    <tr>\n",
       "      <th>네이버_모바일홈:문자형_뉴스리스트:1:8:Y</th>\n",
       "      <td>14</td>\n",
       "      <td>14</td>\n",
       "    </tr>\n",
       "    <tr>\n",
       "      <th>네이버_모바일홈:문자형_뉴스리스트:1:9:Y</th>\n",
       "      <td>2</td>\n",
       "      <td>2</td>\n",
       "    </tr>\n",
       "    <tr>\n",
       "      <th>네이버_모바일홈:썸네일뉴스:2:1:Y</th>\n",
       "      <td>301</td>\n",
       "      <td>301</td>\n",
       "    </tr>\n",
       "    <tr>\n",
       "      <th>네이버_모바일홈:썸네일뉴스:2:2:Y</th>\n",
       "      <td>296</td>\n",
       "      <td>296</td>\n",
       "    </tr>\n",
       "  </tbody>\n",
       "</table>\n",
       "</div>"
      ],
      "text/plain": [
       "                          뉴스제목  위치점유시간\n",
       "위치                                    \n",
       "네이버_모바일뉴스_홈:많이본뉴스:4:1:N      1       1\n",
       "네이버_모바일뉴스_홈:많이본뉴스:4:2:N      1       1\n",
       "네이버_모바일뉴스_홈:많이본뉴스:4:3:N      1       1\n",
       "네이버_모바일뉴스_홈:많이본뉴스:4:4:N      1       1\n",
       "네이버_모바일뉴스_홈:많이본뉴스:4:5:N      1       1\n",
       "네이버_모바일뉴스_홈:많이본뉴스:4:6:N      1       1\n",
       "네이버_모바일뉴스_홈:많이본뉴스:4:7:N      1       1\n",
       "네이버_모바일뉴스_홈:많이본뉴스:4:8:N      1       1\n",
       "네이버_모바일홈:문자형_뉴스리스트:1:1:Y   229     229\n",
       "네이버_모바일홈:문자형_뉴스리스트:1:2:Y   271     271\n",
       "네이버_모바일홈:문자형_뉴스리스트:1:3:Y   321     321\n",
       "네이버_모바일홈:문자형_뉴스리스트:1:4:Y   369     369\n",
       "네이버_모바일홈:문자형_뉴스리스트:1:5:Y   176     176\n",
       "네이버_모바일홈:문자형_뉴스리스트:1:6:Y   208     208\n",
       "네이버_모바일홈:문자형_뉴스리스트:1:7:Y    68      68\n",
       "네이버_모바일홈:문자형_뉴스리스트:1:8:Y    14      14\n",
       "네이버_모바일홈:문자형_뉴스리스트:1:9:Y     2       2\n",
       "네이버_모바일홈:썸네일뉴스:2:1:Y       301     301\n",
       "네이버_모바일홈:썸네일뉴스:2:2:Y       296     296"
      ]
     },
     "execution_count": 65,
     "metadata": {},
     "output_type": "execute_result"
    }
   ],
   "source": [
    "#df.sort_values('위치점유시간', ascending=False)\n",
    "df.groupby('위치').count()\n"
   ]
  },
  {
   "cell_type": "code",
   "execution_count": 88,
   "metadata": {},
   "outputs": [],
   "source": [
    "# 페이지별로 나누기\n",
    "\n",
    "df_1  = df[ df['위치'].str.contains(pat='네이버_모바일홈') ]\n",
    "df_2  = df[ df['위치'].str.contains(pat='네이버_모바일뉴스_홈') ]"
   ]
  },
  {
   "cell_type": "code",
   "execution_count": 89,
   "metadata": {},
   "outputs": [
    {
     "data": {
      "text/plain": [
       "2255"
      ]
     },
     "execution_count": 89,
     "metadata": {},
     "output_type": "execute_result"
    }
   ],
   "source": [
    "len(df_1)"
   ]
  },
  {
   "cell_type": "code",
   "execution_count": 90,
   "metadata": {},
   "outputs": [
    {
     "data": {
      "text/plain": [
       "8"
      ]
     },
     "execution_count": 90,
     "metadata": {},
     "output_type": "execute_result"
    }
   ],
   "source": [
    "len(df_2)"
   ]
  },
  {
   "cell_type": "code",
   "execution_count": 91,
   "metadata": {},
   "outputs": [
    {
     "data": {
      "text/plain": [
       "229"
      ]
     },
     "execution_count": 91,
     "metadata": {},
     "output_type": "execute_result"
    }
   ],
   "source": [
    "# 특정 위치에 대한 점유시간 계산을 위한 분할\n",
    "\n",
    "df_12 = df_1[ df_1['위치']=='네이버_모바일홈:문자형_뉴스리스트:1:1:Y' ]\n",
    "len(df_12)"
   ]
  },
  {
   "cell_type": "code",
   "execution_count": 92,
   "metadata": {},
   "outputs": [
    {
     "data": {
      "text/html": [
       "<div>\n",
       "<style scoped>\n",
       "    .dataframe tbody tr th:only-of-type {\n",
       "        vertical-align: middle;\n",
       "    }\n",
       "\n",
       "    .dataframe tbody tr th {\n",
       "        vertical-align: top;\n",
       "    }\n",
       "\n",
       "    .dataframe thead th {\n",
       "        text-align: right;\n",
       "    }\n",
       "</style>\n",
       "<table border=\"1\" class=\"dataframe\">\n",
       "  <thead>\n",
       "    <tr style=\"text-align: right;\">\n",
       "      <th></th>\n",
       "      <th>위치점유시간</th>\n",
       "    </tr>\n",
       "  </thead>\n",
       "  <tbody>\n",
       "    <tr>\n",
       "      <th>count</th>\n",
       "      <td>2.290000e+02</td>\n",
       "    </tr>\n",
       "    <tr>\n",
       "      <th>mean</th>\n",
       "      <td>3.881519e+04</td>\n",
       "    </tr>\n",
       "    <tr>\n",
       "      <th>std</th>\n",
       "      <td>2.665457e+05</td>\n",
       "    </tr>\n",
       "    <tr>\n",
       "      <th>min</th>\n",
       "      <td>2.407200e+02</td>\n",
       "    </tr>\n",
       "    <tr>\n",
       "      <th>25%</th>\n",
       "      <td>1.971759e+03</td>\n",
       "    </tr>\n",
       "    <tr>\n",
       "      <th>50%</th>\n",
       "      <td>4.078045e+03</td>\n",
       "    </tr>\n",
       "    <tr>\n",
       "      <th>75%</th>\n",
       "      <td>6.002445e+03</td>\n",
       "    </tr>\n",
       "    <tr>\n",
       "      <th>max</th>\n",
       "      <td>2.603915e+06</td>\n",
       "    </tr>\n",
       "  </tbody>\n",
       "</table>\n",
       "</div>"
      ],
      "text/plain": [
       "             위치점유시간\n",
       "count  2.290000e+02\n",
       "mean   3.881519e+04\n",
       "std    2.665457e+05\n",
       "min    2.407200e+02\n",
       "25%    1.971759e+03\n",
       "50%    4.078045e+03\n",
       "75%    6.002445e+03\n",
       "max    2.603915e+06"
      ]
     },
     "execution_count": 92,
     "metadata": {},
     "output_type": "execute_result"
    }
   ],
   "source": [
    "df_12.describe(include=None)"
   ]
  },
  {
   "cell_type": "code",
   "execution_count": 73,
   "metadata": {},
   "outputs": [
    {
     "data": {
      "text/plain": [
       "[229.0,\n",
       " 38815.192786026179,\n",
       " 266545.69994277798,\n",
       " 240.72,\n",
       " 1971.759,\n",
       " 4078.0450000000001,\n",
       " 6002.4449999999997,\n",
       " 2603914.503]"
      ]
     },
     "execution_count": 73,
     "metadata": {},
     "output_type": "execute_result"
    }
   ],
   "source": [
    "li = df_12.describe(include=None).values\n",
    "new_li = []\n",
    "for e in li:\n",
    "    new_li.append(e[0])\n",
    "new_li"
   ]
  },
  {
   "cell_type": "code",
   "execution_count": 93,
   "metadata": {},
   "outputs": [],
   "source": [
    "count = new_li[0]\n",
    "mean = new_li[1]\n",
    "std = new_li[2]\n",
    "minm = new_li[3]\n",
    "maxm = new_li[7]"
   ]
  },
  {
   "cell_type": "markdown",
   "metadata": {},
   "source": [
    "# 언론_그래프분석용_로딩"
   ]
  },
  {
   "cell_type": "code",
   "execution_count": 94,
   "metadata": {
    "scrolled": false
   },
   "outputs": [],
   "source": [
    "def 언론_그래프분석용_로딩(title_li):\n",
    "    query = {'뉴스제목':{'$in':title_li}}\n",
    "    projection = {'_id':1, '언론사명':1, '언론인명':1}\n",
    "    df = mg.find(db명=DB명, tbl명=News.TBL명, query=query, projection=projection, dbg_on=False, 컬럼순서li=[], df보고형태='df')\n",
    "    \n",
    "    # 기초청소\n",
    "    df = df.rename(columns={'_id':'news_id'})\n",
    "    \n",
    "    print(len(df))\n",
    "    return df\n"
   ]
  },
  {
   "cell_type": "code",
   "execution_count": 124,
   "metadata": {},
   "outputs": [
    {
     "name": "stdout",
     "output_type": "stream",
     "text": [
      "\n",
      "============================================================find\n",
      "179\n"
     ]
    }
   ],
   "source": [
    "# 네이버 모바일홈 에 대해서 : 첫화면-첫줄\n",
    "\n",
    "title_li = list(df_12['뉴스제목'])\n",
    "df1 = 언론_그래프분석용_로딩(title_li)\n",
    "title = '\"네이버_모바일홈:문자형_뉴스리스트:1:1:Y\" 에 배치된 뉴스들의 언론사별 구성비_파이_EN'\n"
   ]
  },
  {
   "cell_type": "code",
   "execution_count": 127,
   "metadata": {},
   "outputs": [
    {
     "name": "stdout",
     "output_type": "stream",
     "text": [
      "\n",
      "============================================================find\n",
      "1423\n"
     ]
    }
   ],
   "source": [
    "# 네이버 모바일홈 에 대해서 : 전부 \n",
    "\n",
    "title_li = list(df_1['뉴스제목'])\n",
    "df1 = 언론_그래프분석용_로딩(title_li)\n",
    "title = '\"네이버_모바일홈\" 에 배치된 전체 뉴스들의 언론사별 구성비_파이_EN'\n"
   ]
  },
  {
   "cell_type": "code",
   "execution_count": 121,
   "metadata": {
    "scrolled": false
   },
   "outputs": [
    {
     "data": {
      "text/html": [
       "<div>\n",
       "<style scoped>\n",
       "    .dataframe tbody tr th:only-of-type {\n",
       "        vertical-align: middle;\n",
       "    }\n",
       "\n",
       "    .dataframe tbody tr th {\n",
       "        vertical-align: top;\n",
       "    }\n",
       "\n",
       "    .dataframe thead th {\n",
       "        text-align: right;\n",
       "    }\n",
       "</style>\n",
       "<table border=\"1\" class=\"dataframe\">\n",
       "  <thead>\n",
       "    <tr style=\"text-align: right;\">\n",
       "      <th></th>\n",
       "      <th>news_id</th>\n",
       "      <th>언론사명</th>\n",
       "      <th>언론인명</th>\n",
       "    </tr>\n",
       "  </thead>\n",
       "  <tbody>\n",
       "    <tr>\n",
       "      <th>0</th>\n",
       "      <td>5b0d22dfb94e314ecfd97576</td>\n",
       "      <td>뉴스1</td>\n",
       "      <td>이유지 기자</td>\n",
       "    </tr>\n",
       "    <tr>\n",
       "      <th>1</th>\n",
       "      <td>5b0d58d0b94e314ecfd97e6a</td>\n",
       "      <td>연합뉴스</td>\n",
       "      <td>None</td>\n",
       "    </tr>\n",
       "    <tr>\n",
       "      <th>2</th>\n",
       "      <td>5b0d5d83b94e314ecfd97f41</td>\n",
       "      <td>연합뉴스</td>\n",
       "      <td>None</td>\n",
       "    </tr>\n",
       "    <tr>\n",
       "      <th>3</th>\n",
       "      <td>5b0e3155b94e314ecfd991db</td>\n",
       "      <td>연합뉴스</td>\n",
       "      <td>강건택 기자</td>\n",
       "    </tr>\n",
       "    <tr>\n",
       "      <th>4</th>\n",
       "      <td>5b0e1b78b94e314ecfd9911a</td>\n",
       "      <td>뉴스1</td>\n",
       "      <td>정은지 기자</td>\n",
       "    </tr>\n",
       "  </tbody>\n",
       "</table>\n",
       "</div>"
      ],
      "text/plain": [
       "                    news_id  언론사명     언론인명\n",
       "0  5b0d22dfb94e314ecfd97576   뉴스1   이유지 기자\n",
       "1  5b0d58d0b94e314ecfd97e6a  연합뉴스     None\n",
       "2  5b0d5d83b94e314ecfd97f41  연합뉴스     None\n",
       "3  5b0e3155b94e314ecfd991db  연합뉴스  강건택 기자 \n",
       "4  5b0e1b78b94e314ecfd9911a   뉴스1   정은지 기자"
      ]
     },
     "execution_count": 121,
     "metadata": {},
     "output_type": "execute_result"
    }
   ],
   "source": [
    "df1.head()"
   ]
  },
  {
   "cell_type": "code",
   "execution_count": null,
   "metadata": {},
   "outputs": [],
   "source": []
  },
  {
   "cell_type": "code",
   "execution_count": 128,
   "metadata": {},
   "outputs": [
    {
     "name": "stdout",
     "output_type": "stream",
     "text": [
      "\n",
      "============================================================find\n"
     ]
    }
   ],
   "source": [
    "df1 = Translator.term_translator(df=df1)"
   ]
  },
  {
   "cell_type": "code",
   "execution_count": 129,
   "metadata": {
    "scrolled": false
   },
   "outputs": [
    {
     "data": {
      "text/html": [
       "<div>\n",
       "<style scoped>\n",
       "    .dataframe tbody tr th:only-of-type {\n",
       "        vertical-align: middle;\n",
       "    }\n",
       "\n",
       "    .dataframe tbody tr th {\n",
       "        vertical-align: top;\n",
       "    }\n",
       "\n",
       "    .dataframe thead th {\n",
       "        text-align: right;\n",
       "    }\n",
       "</style>\n",
       "<table border=\"1\" class=\"dataframe\">\n",
       "  <thead>\n",
       "    <tr style=\"text-align: right;\">\n",
       "      <th></th>\n",
       "      <th>news_id</th>\n",
       "      <th>Jounalist name</th>\n",
       "    </tr>\n",
       "    <tr>\n",
       "      <th>Press company name</th>\n",
       "      <th></th>\n",
       "      <th></th>\n",
       "    </tr>\n",
       "  </thead>\n",
       "  <tbody>\n",
       "    <tr>\n",
       "      <th>yonhapnews</th>\n",
       "      <td>479</td>\n",
       "      <td>352</td>\n",
       "    </tr>\n",
       "    <tr>\n",
       "      <th>news1</th>\n",
       "      <td>176</td>\n",
       "      <td>173</td>\n",
       "    </tr>\n",
       "    <tr>\n",
       "      <th>newsis</th>\n",
       "      <td>168</td>\n",
       "      <td>167</td>\n",
       "    </tr>\n",
       "    <tr>\n",
       "      <th>news.sbs</th>\n",
       "      <td>133</td>\n",
       "      <td>84</td>\n",
       "    </tr>\n",
       "    <tr>\n",
       "      <th>news.jtbc.joins</th>\n",
       "      <td>93</td>\n",
       "      <td>83</td>\n",
       "    </tr>\n",
       "    <tr>\n",
       "      <th>imnews.imbc</th>\n",
       "      <td>62</td>\n",
       "      <td>53</td>\n",
       "    </tr>\n",
       "    <tr>\n",
       "      <th>chosun</th>\n",
       "      <td>39</td>\n",
       "      <td>0</td>\n",
       "    </tr>\n",
       "    <tr>\n",
       "      <th>donga</th>\n",
       "      <td>31</td>\n",
       "      <td>0</td>\n",
       "    </tr>\n",
       "    <tr>\n",
       "      <th>nocutnews</th>\n",
       "      <td>26</td>\n",
       "      <td>12</td>\n",
       "    </tr>\n",
       "    <tr>\n",
       "      <th>ytn</th>\n",
       "      <td>24</td>\n",
       "      <td>6</td>\n",
       "    </tr>\n",
       "    <tr>\n",
       "      <th>edaily</th>\n",
       "      <td>22</td>\n",
       "      <td>18</td>\n",
       "    </tr>\n",
       "    <tr>\n",
       "      <th>mt</th>\n",
       "      <td>21</td>\n",
       "      <td>17</td>\n",
       "    </tr>\n",
       "    <tr>\n",
       "      <th>joongang.joins</th>\n",
       "      <td>19</td>\n",
       "      <td>19</td>\n",
       "    </tr>\n",
       "    <tr>\n",
       "      <th>segye</th>\n",
       "      <td>16</td>\n",
       "      <td>1</td>\n",
       "    </tr>\n",
       "    <tr>\n",
       "      <th>news-y</th>\n",
       "      <td>15</td>\n",
       "      <td>0</td>\n",
       "    </tr>\n",
       "    <tr>\n",
       "      <th>asianomy.co</th>\n",
       "      <td>13</td>\n",
       "      <td>11</td>\n",
       "    </tr>\n",
       "    <tr>\n",
       "      <th>news.kbs</th>\n",
       "      <td>13</td>\n",
       "      <td>11</td>\n",
       "    </tr>\n",
       "    <tr>\n",
       "      <th>khan</th>\n",
       "      <td>9</td>\n",
       "      <td>0</td>\n",
       "    </tr>\n",
       "    <tr>\n",
       "      <th>fnnews</th>\n",
       "      <td>9</td>\n",
       "      <td>9</td>\n",
       "    </tr>\n",
       "    <tr>\n",
       "      <th>ichannela</th>\n",
       "      <td>8</td>\n",
       "      <td>0</td>\n",
       "    </tr>\n",
       "    <tr>\n",
       "      <th>tv.chosun</th>\n",
       "      <td>7</td>\n",
       "      <td>4</td>\n",
       "    </tr>\n",
       "    <tr>\n",
       "      <th>hankookilbo</th>\n",
       "      <td>6</td>\n",
       "      <td>6</td>\n",
       "    </tr>\n",
       "    <tr>\n",
       "      <th>ohmynews</th>\n",
       "      <td>5</td>\n",
       "      <td>0</td>\n",
       "    </tr>\n",
       "    <tr>\n",
       "      <th>hankyung</th>\n",
       "      <td>4</td>\n",
       "      <td>2</td>\n",
       "    </tr>\n",
       "    <tr>\n",
       "      <th>sedaily</th>\n",
       "      <td>4</td>\n",
       "      <td>4</td>\n",
       "    </tr>\n",
       "    <tr>\n",
       "      <th>kmib</th>\n",
       "      <td>3</td>\n",
       "      <td>3</td>\n",
       "    </tr>\n",
       "    <tr>\n",
       "      <th>sunday.joins</th>\n",
       "      <td>3</td>\n",
       "      <td>0</td>\n",
       "    </tr>\n",
       "    <tr>\n",
       "      <th>dailian</th>\n",
       "      <td>2</td>\n",
       "      <td>2</td>\n",
       "    </tr>\n",
       "    <tr>\n",
       "      <th>sisain</th>\n",
       "      <td>2</td>\n",
       "      <td>0</td>\n",
       "    </tr>\n",
       "    <tr>\n",
       "      <th>biz.chosun</th>\n",
       "      <td>2</td>\n",
       "      <td>0</td>\n",
       "    </tr>\n",
       "    <tr>\n",
       "      <th>mk</th>\n",
       "      <td>2</td>\n",
       "      <td>0</td>\n",
       "    </tr>\n",
       "    <tr>\n",
       "      <th>mbn</th>\n",
       "      <td>2</td>\n",
       "      <td>0</td>\n",
       "    </tr>\n",
       "    <tr>\n",
       "      <th>inews24</th>\n",
       "      <td>1</td>\n",
       "      <td>1</td>\n",
       "    </tr>\n",
       "    <tr>\n",
       "      <th>seoul</th>\n",
       "      <td>1</td>\n",
       "      <td>1</td>\n",
       "    </tr>\n",
       "    <tr>\n",
       "      <th>mydaily</th>\n",
       "      <td>1</td>\n",
       "      <td>1</td>\n",
       "    </tr>\n",
       "    <tr>\n",
       "      <th>munhwa</th>\n",
       "      <td>1</td>\n",
       "      <td>0</td>\n",
       "    </tr>\n",
       "    <tr>\n",
       "      <th>heraldbiz</th>\n",
       "      <td>1</td>\n",
       "      <td>1</td>\n",
       "    </tr>\n",
       "  </tbody>\n",
       "</table>\n",
       "</div>"
      ],
      "text/plain": [
       "                    news_id  Jounalist name\n",
       "Press company name                         \n",
       "yonhapnews              479             352\n",
       "news1                   176             173\n",
       "newsis                  168             167\n",
       "news.sbs                133              84\n",
       "news.jtbc.joins          93              83\n",
       "imnews.imbc              62              53\n",
       "chosun                   39               0\n",
       "donga                    31               0\n",
       "nocutnews                26              12\n",
       "ytn                      24               6\n",
       "edaily                   22              18\n",
       "mt                       21              17\n",
       "joongang.joins           19              19\n",
       "segye                    16               1\n",
       "news-y                   15               0\n",
       "asianomy.co              13              11\n",
       "news.kbs                 13              11\n",
       "khan                      9               0\n",
       "fnnews                    9               9\n",
       "ichannela                 8               0\n",
       "tv.chosun                 7               4\n",
       "hankookilbo               6               6\n",
       "ohmynews                  5               0\n",
       "hankyung                  4               2\n",
       "sedaily                   4               4\n",
       "kmib                      3               3\n",
       "sunday.joins              3               0\n",
       "dailian                   2               2\n",
       "sisain                    2               0\n",
       "biz.chosun                2               0\n",
       "mk                        2               0\n",
       "mbn                       2               0\n",
       "inews24                   1               1\n",
       "seoul                     1               1\n",
       "mydaily                   1               1\n",
       "munhwa                    1               0\n",
       "heraldbiz                 1               1"
      ]
     },
     "execution_count": 129,
     "metadata": {},
     "output_type": "execute_result"
    }
   ],
   "source": [
    "df1 = df1.groupby(['Press company name']).count().sort_values('news_id', ascending=False)\n",
    "df1"
   ]
  },
  {
   "cell_type": "code",
   "execution_count": 100,
   "metadata": {},
   "outputs": [],
   "source": [
    "import __matplotlib as mpl\n",
    "\n",
    "TFM_DATA_PATH = '/Users/sambong/내자료/TFM/data'\n",
    "CHAPTER = '/뉴스의 화면배치'\n",
    "SUB_CHAPTER = '/인터넷 포털 언론사(네이버)의 홈페이지 뉴스 화면배치'"
   ]
  },
  {
   "cell_type": "code",
   "execution_count": 119,
   "metadata": {},
   "outputs": [
    {
     "name": "stdout",
     "output_type": "stream",
     "text": [
      "{'f_path': '/Users/sambong/내자료/TFM/data/뉴스의 화면배치/인터넷 포털 언론사(네이버)의 홈페이지 뉴스 화면배치/\"네이버_모바일홈\" 에 배치된 전체 뉴스들의 언론사별 구성비_파이_EN'}\n"
     ]
    },
    {
     "data": {
      "image/png": "[encoded data removed]",
      "text/plain": [
       "<matplotlib.figure.Figure at 0x1a169f2748>"
      ]
     },
     "metadata": {},
     "output_type": "display_data"
    }
   ],
   "source": [
    "\n",
    "\n",
    "f_path = TFM_DATA_PATH + CHAPTER + SUB_CHAPTER + '/' + title\n",
    "\n",
    "mpl.pie_graph(labels=list(df1.index), sizes=list(df1['news_id']), save=True, f_path=f_path)"
   ]
  }
 ],
 "metadata": {
  "kernelspec": {
   "display_name": "Python 3",
   "language": "python",
   "name": "python3"
  },
  "language_info": {
   "codemirror_mode": {
    "name": "ipython",
    "version": 3
   },
   "file_extension": ".py",
   "mimetype": "text/x-python",
   "name": "python",
   "nbconvert_exporter": "python",
   "pygments_lexer": "ipython3",
   "version": "3.6.4"
  }
 },
 "nbformat": 4,
 "nbformat_minor": 2
}
