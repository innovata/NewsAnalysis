{
 "cells": [
  {
   "cell_type": "code",
   "execution_count": 1,
   "metadata": {},
   "outputs": [],
   "source": [
    "# 오픈 모듈\n",
    "import sys\n",
    "import json\n",
    "from datetime import datetime\n",
    "import matplotlib.pyplot as plt\n",
    "import matplotlib.dates as mdates\n",
    "import pandas as pd\n",
    "import numpy as np\n",
    "import pickle\n",
    "\n",
    "# 공용 라이브러리\n",
    "\n",
    "# 프로젝트 라이브러리\n",
    "from News_ import data_path, db명, db\n",
    "\n",
    "# 전역변수"
   ]
  },
  {
   "cell_type": "code",
   "execution_count": 3,
   "metadata": {},
   "outputs": [],
   "source": [
    "from report_twitter import time_series"
   ]
  },
  {
   "cell_type": "code",
   "execution_count": 4,
   "metadata": {},
   "outputs": [
    {
     "name": "stderr",
     "output_type": "stream",
     "text": [
      "/Users/sambong/anaconda3/lib/python3.6/site-packages/ipykernel_launcher.py:13: FutureWarning: how in .resample() is deprecated\n",
      "the new syntax is .resample(...).sum()\n",
      "  del sys.path[0]\n"
     ]
    },
    {
     "name": "stdout",
     "output_type": "stream",
     "text": [
      "2018-05-01 02:24:04    1.0\n",
      "2018-05-01 01:29:46    1.0\n",
      "2018-04-28 05:48:33    1.0\n",
      "2018-04-26 01:48:09    1.0\n",
      "2018-04-25 04:27:59    1.0\n",
      "dtype: float64\n",
      "2011-11-18 13:55:00    1.0\n",
      "2011-11-18 13:56:00    2.0\n",
      "2011-11-18 13:57:00    0.0\n",
      "2011-11-18 13:58:00    2.0\n",
      "2011-11-18 13:59:00    3.0\n",
      "Freq: T, dtype: float64\n"
     ]
    },
    {
     "data": {
      "image/png": "[encoded data removed]",
      "text/plain": [
       "<matplotlib.figure.Figure at 0x1035214a8>"
      ]
     },
     "metadata": {},
     "output_type": "display_data"
    }
   ],
   "source": [
    "time_series('user_timeline_jtkim1013.jsonl')"
   ]
  },
  {
   "cell_type": "code",
   "execution_count": null,
   "metadata": {},
   "outputs": [],
   "source": []
  }
 ],
 "metadata": {
  "kernelspec": {
   "display_name": "Python 3",
   "language": "python",
   "name": "python3"
  },
  "language_info": {
   "codemirror_mode": {
    "name": "ipython",
    "version": 3
   },
   "file_extension": ".py",
   "mimetype": "text/x-python",
   "name": "python",
   "nbconvert_exporter": "python",
   "pygments_lexer": "ipython3",
   "version": "3.6.4"
  }
 },
 "nbformat": 4,
 "nbformat_minor": 2
}
