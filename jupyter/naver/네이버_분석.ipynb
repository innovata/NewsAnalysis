{
 "cells": [
  {
   "cell_type": "code",
   "execution_count": 13,
   "metadata": {},
   "outputs": [],
   "source": [
    "# 오픈 라이브러리\n",
    "import pandas as pd\n",
    "from pymongo import MongoClient, ASCENDING, DESCENDING\n",
    "client = MongoClient()\n",
    "from datetime import datetime\n",
    "import tweepy\n",
    "from bson.objectid import ObjectId\n",
    "from pandas.io.json import json_normalize\n",
    "from nltk import word_tokenize, sent_tokenize\n",
    "\n",
    "# 나의 라이브러리\n",
    "import sys\n",
    "sys.path.append('/Users/sambong/p/lib/')\n",
    "import df_handler as dh\n",
    "\n",
    "# 프로젝트 라이브러리\n",
    "from NEWS_PJT import *\n",
    "db = client[DB명]\n",
    "\n",
    "# 전역변수"
   ]
  },
  {
   "cell_type": "code",
   "execution_count": 2,
   "metadata": {},
   "outputs": [],
   "source": [
    "#from analyze_naver import ()"
   ]
  },
  {
   "cell_type": "code",
   "execution_count": null,
   "metadata": {},
   "outputs": [],
   "source": [
    "df[ df.제목.str.contains(pat='이명박', case=False, na=False) ].reindex(columns=['검색어','발행일시','제목','내용','네이버뉴스_url','원본기사_url','_id'])"
   ]
  },
  {
   "cell_type": "code",
   "execution_count": null,
   "metadata": {},
   "outputs": [],
   "source": [
    "df.groupby(['검색어','발행일시','제목','내용']).count()"
   ]
  },
  {
   "cell_type": "code",
   "execution_count": null,
   "metadata": {},
   "outputs": [],
   "source": [
    "#df.reindex(columns=['검색어','발행일시','제목','내용','네이버뉴스_url','원본기사_url'])"
   ]
  },
  {
   "cell_type": "code",
   "execution_count": 10,
   "metadata": {},
   "outputs": [
    {
     "data": {
      "text/plain": [
       "['C_네이버_오픈API_뉴스검색결과',\n",
       " 'tw_home_timeline',\n",
       " '유투브영상',\n",
       " '유투브영상_세계뉴스',\n",
       " '인물정보',\n",
       " '트위터_팔로잉_이름',\n",
       " '함수실행로그']"
      ]
     },
     "execution_count": 10,
     "metadata": {},
     "output_type": "execute_result"
    }
   ],
   "source": [
    "sorted( db.collection_names() )"
   ]
  },
  {
   "cell_type": "code",
   "execution_count": 9,
   "metadata": {},
   "outputs": [],
   "source": [
    "db.네이버_오픈API_뉴스검색결과.rename('C_네이버_오픈API_뉴스검색결과')"
   ]
  },
  {
   "cell_type": "code",
   "execution_count": 14,
   "metadata": {},
   "outputs": [],
   "source": [
    "df = pd.DataFrame(list( db['C_네이버_오픈API_뉴스검색결과'].find().sort('발행일시',DESCENDING) ))"
   ]
  },
  {
   "cell_type": "code",
   "execution_count": 16,
   "metadata": {},
   "outputs": [
    {
     "data": {
      "text/plain": [
       "310"
      ]
     },
     "execution_count": 16,
     "metadata": {},
     "output_type": "execute_result"
    }
   ],
   "source": [
    "len(df)"
   ]
  },
  {
   "cell_type": "code",
   "execution_count": null,
   "metadata": {},
   "outputs": [],
   "source": [
    "#dh.컬럼순서_점검_및_정렬(df, 함수실행로그_컬럼순서, {'by':'측정일시', 'asc':False})"
   ]
  },
  {
   "cell_type": "code",
   "execution_count": 15,
   "metadata": {},
   "outputs": [
    {
     "data": {
      "text/html": [
       "<div>\n",
       "<style scoped>\n",
       "    .dataframe tbody tr th:only-of-type {\n",
       "        vertical-align: middle;\n",
       "    }\n",
       "\n",
       "    .dataframe tbody tr th {\n",
       "        vertical-align: top;\n",
       "    }\n",
       "\n",
       "    .dataframe thead th {\n",
       "        text-align: right;\n",
       "    }\n",
       "</style>\n",
       "<table border=\"1\" class=\"dataframe\">\n",
       "  <thead>\n",
       "    <tr style=\"text-align: right;\">\n",
       "      <th></th>\n",
       "      <th>_id</th>\n",
       "      <th>검색어</th>\n",
       "      <th>내용</th>\n",
       "      <th>네이버뉴스_url</th>\n",
       "      <th>발행일시</th>\n",
       "      <th>원본기사_url</th>\n",
       "      <th>제목</th>\n",
       "    </tr>\n",
       "  </thead>\n",
       "  <tbody>\n",
       "    <tr>\n",
       "      <th>0</th>\n",
       "      <td>5afbd8f3dc958fdfa618ea3f</td>\n",
       "      <td>드루킹</td>\n",
       "      <td>16일 &lt;b&gt;드루킹&lt;/b&gt; 특검법안과 추가경정예산안의 18일 동시 처리와 관련한 추...</td>\n",
       "      <td>http://news.naver.com/main/read.nhn?mode=LSD&amp;m...</td>\n",
       "      <td>2018-05-16 07:00:00</td>\n",
       "      <td>http://app.yonhapnews.co.kr/YNA/Basic/SNS/r.as...</td>\n",
       "      <td>[연합뉴스 이 시각 헤드라인] - 16:00</td>\n",
       "    </tr>\n",
       "  </tbody>\n",
       "</table>\n",
       "</div>"
      ],
      "text/plain": [
       "                        _id  검색어  \\\n",
       "0  5afbd8f3dc958fdfa618ea3f  드루킹   \n",
       "\n",
       "                                                  내용  \\\n",
       "0  16일 <b>드루킹</b> 특검법안과 추가경정예산안의 18일 동시 처리와 관련한 추...   \n",
       "\n",
       "                                           네이버뉴스_url                발행일시  \\\n",
       "0  http://news.naver.com/main/read.nhn?mode=LSD&m... 2018-05-16 07:00:00   \n",
       "\n",
       "                                            원본기사_url                        제목  \n",
       "0  http://app.yonhapnews.co.kr/YNA/Basic/SNS/r.as...  [연합뉴스 이 시각 헤드라인] - 16:00  "
      ]
     },
     "execution_count": 15,
     "metadata": {},
     "output_type": "execute_result"
    }
   ],
   "source": [
    "df.head(1)"
   ]
  },
  {
   "cell_type": "code",
   "execution_count": 12,
   "metadata": {
    "scrolled": false
   },
   "outputs": [],
   "source": [
    "#df[ df.검색어 == '조현민' ].sort_values(by='발행일시', ascending=False)"
   ]
  },
  {
   "cell_type": "code",
   "execution_count": null,
   "metadata": {},
   "outputs": [],
   "source": []
  }
 ],
 "metadata": {
  "kernelspec": {
   "display_name": "Python 3",
   "language": "python",
   "name": "python3"
  },
  "language_info": {
   "codemirror_mode": {
    "name": "ipython",
    "version": 3
   },
   "file_extension": ".py",
   "mimetype": "text/x-python",
   "name": "python",
   "nbconvert_exporter": "python",
   "pygments_lexer": "ipython3",
   "version": "3.6.4"
  }
 },
 "nbformat": 4,
 "nbformat_minor": 2
}
