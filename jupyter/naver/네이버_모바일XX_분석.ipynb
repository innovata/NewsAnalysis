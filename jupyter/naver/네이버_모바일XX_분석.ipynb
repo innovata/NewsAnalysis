{
 "cells": [
  {
   "cell_type": "code",
   "execution_count": 2,
   "metadata": {},
   "outputs": [],
   "source": [
    "# 오픈 라이브러리\n",
    "import threading\n",
    "import time\n",
    "import schedule\n",
    "\n",
    "# 나의 라이브러리\n",
    "# 프로젝트 라이브러리\n",
    "from \n",
    "# 전역변수\n"
   ]
  },
  {
   "cell_type": "code",
   "execution_count": 4,
   "metadata": {},
   "outputs": [
    {
     "name": "stdout",
     "output_type": "stream",
     "text": [
      "함수 : <Thread(Thread-12, started 123145398415360)>\n",
      "함수 : <Thread(Thread-13, started 123145398415360)>\n",
      "함수 : <Thread(Thread-14, started 123145403670528)>\n",
      "함수 : <Thread(Thread-15, started 123145398415360)>\n",
      "함수 : <Thread(Thread-16, started 123145398415360)>\n",
      "함수 : <Thread(Thread-17, started 123145398415360)>\n",
      "함수 : <Thread(Thread-18, started 123145403670528)>\n",
      "함수 : <Thread(Thread-19, started 123145398415360)>\n",
      "함수 : <Thread(Thread-20, started 123145403670528)>\n",
      "함수 : <Thread(Thread-21, started 123145398415360)>\n",
      "함수 : <Thread(Thread-22, started 123145398415360)>\n",
      "함수 : <Thread(Thread-23, started 123145398415360)>\n",
      "함수 : <Thread(Thread-24, started 123145403670528)>\n",
      "함수 : <Thread(Thread-25, started 123145398415360)>\n",
      "함수 : <Thread(Thread-26, started 123145398415360)>\n",
      "함수 : <Thread(Thread-27, started 123145398415360)>\n",
      "함수 : <Thread(Thread-28, started 123145403670528)>\n",
      "함수 : <Thread(Thread-29, started 123145398415360)>함수 : <Thread(Thread-30, started 123145403670528)>\n",
      "\n"
     ]
    },
    {
     "ename": "KeyboardInterrupt",
     "evalue": "",
     "output_type": "error",
     "traceback": [
      "\u001b[0;31m---------------------------------------------------------------------------\u001b[0m",
      "\u001b[0;31mKeyboardInterrupt\u001b[0m                         Traceback (most recent call last)",
      "\u001b[0;32m<ipython-input-4-fbc74df3b977>\u001b[0m in \u001b[0;36m<module>\u001b[0;34m()\u001b[0m\n\u001b[1;32m     13\u001b[0m \u001b[0;32mwhile\u001b[0m \u001b[0;36m1\u001b[0m\u001b[0;34m:\u001b[0m\u001b[0;34m\u001b[0m\u001b[0m\n\u001b[1;32m     14\u001b[0m     \u001b[0mschedule\u001b[0m\u001b[0;34m.\u001b[0m\u001b[0mrun_pending\u001b[0m\u001b[0;34m(\u001b[0m\u001b[0;34m)\u001b[0m\u001b[0;34m\u001b[0m\u001b[0m\n\u001b[0;32m---> 15\u001b[0;31m     \u001b[0mtime\u001b[0m\u001b[0;34m.\u001b[0m\u001b[0msleep\u001b[0m\u001b[0;34m(\u001b[0m\u001b[0;36m3\u001b[0m\u001b[0;34m)\u001b[0m\u001b[0;34m\u001b[0m\u001b[0m\n\u001b[0m",
      "\u001b[0;31mKeyboardInterrupt\u001b[0m: "
     ]
    }
   ],
   "source": [
    "def job():\n",
    "    print(\"함수 : %s\" % threading.current_thread())\n",
    "\n",
    "\n",
    "def run_threaded(job_func):\n",
    "    job_thread = threading.Thread(target=job_func)\n",
    "    job_thread.start()\n",
    "\n",
    "\n",
    "schedule.every(2).seconds.do(run_threaded, job)\n",
    "\n",
    "\n",
    "while 1:\n",
    "    schedule.run_pending()\n",
    "    time.sleep(3)"
   ]
  },
  {
   "cell_type": "code",
   "execution_count": null,
   "metadata": {},
   "outputs": [],
   "source": []
  }
 ],
 "metadata": {
  "kernelspec": {
   "display_name": "Python 3",
   "language": "python",
   "name": "python3"
  },
  "language_info": {
   "codemirror_mode": {
    "name": "ipython",
    "version": 3
   },
   "file_extension": ".py",
   "mimetype": "text/x-python",
   "name": "python",
   "nbconvert_exporter": "python",
   "pygments_lexer": "ipython3",
   "version": "3.6.4"
  }
 },
 "nbformat": 4,
 "nbformat_minor": 2
}
