{
 "cells": [
  {
   "cell_type": "code",
   "execution_count": 3,
   "metadata": {},
   "outputs": [],
   "source": [
    "import pandas as pd\n",
    "from pymongo import MongoClient, ASCENDING, DESCENDING\n",
    "client = MongoClient()\n",
    "\n",
    "import sys\n",
    "sys.path.append('/Users/sambong/p/lib/')\n",
    "import __list as lh\n",
    "import df_handler as dh\n",
    "\n",
    "# 프로젝트 라이브러리\n",
    "from thenews.__lib__ import *\n",
    "db = client[DB명]\n",
    "\n",
    "from collect_youtube import (\n",
    "    중요도순으로_정렬후_디비업데이트,\n",
    ")"
   ]
  },
  {
   "cell_type": "code",
   "execution_count": 4,
   "metadata": {},
   "outputs": [
    {
     "name": "stdout",
     "output_type": "stream",
     "text": [
      "{'컬럼순서_점검': {'1 df의 cols': ['24h_live',\n",
      "                            '_id',\n",
      "                            'url_id',\n",
      "                            'youtube_url',\n",
      "                            '국가',\n",
      "                            '날짜',\n",
      "                            '분류',\n",
      "                            '영상명',\n",
      "                            '우선순위',\n",
      "                            '지역'],\n",
      "             '2 입력한 컬럼순서': ['분류',\n",
      "                            '지역',\n",
      "                            '국가',\n",
      "                            '24h_live',\n",
      "                            '우선순위',\n",
      "                            '날짜',\n",
      "                            '영상명',\n",
      "                            'url_id',\n",
      "                            'youtube_url',\n",
      "                            '_id'],\n",
      "             '3 컬럼순서에_누락된_컬럼': [],\n",
      "             '4 컬럼순서의_불필요한_컬럼': []}}\n",
      "{'컬럼순서_점검_및_정렬': {'len(df)': 10}}\n"
     ]
    },
    {
     "data": {
      "text/html": [
       "<div>\n",
       "<style scoped>\n",
       "    .dataframe tbody tr th:only-of-type {\n",
       "        vertical-align: middle;\n",
       "    }\n",
       "\n",
       "    .dataframe tbody tr th {\n",
       "        vertical-align: top;\n",
       "    }\n",
       "\n",
       "    .dataframe thead th {\n",
       "        text-align: right;\n",
       "    }\n",
       "</style>\n",
       "<table border=\"1\" class=\"dataframe\">\n",
       "  <thead>\n",
       "    <tr style=\"text-align: right;\">\n",
       "      <th></th>\n",
       "      <th>분류</th>\n",
       "      <th>지역</th>\n",
       "      <th>국가</th>\n",
       "      <th>24h_live</th>\n",
       "      <th>우선순위</th>\n",
       "      <th>날짜</th>\n",
       "      <th>영상명</th>\n",
       "      <th>url_id</th>\n",
       "      <th>youtube_url</th>\n",
       "      <th>_id</th>\n",
       "    </tr>\n",
       "  </thead>\n",
       "  <tbody>\n",
       "    <tr>\n",
       "      <th>0</th>\n",
       "      <td>뉴스</td>\n",
       "      <td>동아시아</td>\n",
       "      <td>한국</td>\n",
       "      <td>Y</td>\n",
       "      <td>4.0</td>\n",
       "      <td>_</td>\n",
       "      <td>YTN LIVE</td>\n",
       "      <td>aR8Fe1lTKHo</td>\n",
       "      <td>_</td>\n",
       "      <td>5ae5c64edc958f46df1ad478</td>\n",
       "    </tr>\n",
       "  </tbody>\n",
       "</table>\n",
       "</div>"
      ],
      "text/plain": [
       "   분류    지역  국가 24h_live  우선순위 날짜       영상명       url_id youtube_url  \\\n",
       "0  뉴스  동아시아  한국        Y   4.0  _  YTN LIVE  aR8Fe1lTKHo           _   \n",
       "\n",
       "                        _id  \n",
       "0  5ae5c64edc958f46df1ad478  "
      ]
     },
     "execution_count": 4,
     "metadata": {},
     "output_type": "execute_result"
    }
   ],
   "source": [
    "where = {\n",
    "    '분류':'뉴스',\n",
    "    '지역':'동아시아',\n",
    "#    '국가':'미국',\n",
    "}\n",
    "df = pd.DataFrame(list( db.유투브영상.find(where) ))\n",
    "\n",
    "\n",
    "신규저장후_확인용_유투브영상_컬럼순서 = ['분류','지역','국가','24h_live','우선순위','날짜','영상명','url_id','youtube_url','_id']\n",
    "df = dh.컬럼순서_점검_및_정렬(df, 신규저장후_확인용_유투브영상_컬럼순서)\n",
    "\n",
    "\n",
    "if (len) != 0:\n",
    "    df = df.fillna('_')\n",
    "df.head(1)"
   ]
  },
  {
   "cell_type": "code",
   "execution_count": 5,
   "metadata": {},
   "outputs": [
    {
     "data": {
      "text/html": [
       "<div>\n",
       "<style scoped>\n",
       "    .dataframe tbody tr th:only-of-type {\n",
       "        vertical-align: middle;\n",
       "    }\n",
       "\n",
       "    .dataframe tbody tr th {\n",
       "        vertical-align: top;\n",
       "    }\n",
       "\n",
       "    .dataframe thead th {\n",
       "        text-align: right;\n",
       "    }\n",
       "</style>\n",
       "<table border=\"1\" class=\"dataframe\">\n",
       "  <thead>\n",
       "    <tr style=\"text-align: right;\">\n",
       "      <th></th>\n",
       "      <th></th>\n",
       "      <th></th>\n",
       "      <th></th>\n",
       "      <th></th>\n",
       "      <th></th>\n",
       "      <th></th>\n",
       "      <th></th>\n",
       "      <th></th>\n",
       "      <th></th>\n",
       "    </tr>\n",
       "    <tr>\n",
       "      <th>분류</th>\n",
       "      <th>지역</th>\n",
       "      <th>국가</th>\n",
       "      <th>24h_live</th>\n",
       "      <th>우선순위</th>\n",
       "      <th>날짜</th>\n",
       "      <th>영상명</th>\n",
       "      <th>url_id</th>\n",
       "      <th>youtube_url</th>\n",
       "      <th>_id</th>\n",
       "    </tr>\n",
       "  </thead>\n",
       "  <tbody>\n",
       "    <tr>\n",
       "      <th rowspan=\"10\" valign=\"top\">뉴스</th>\n",
       "      <th rowspan=\"10\" valign=\"top\">동아시아</th>\n",
       "      <th>일본</th>\n",
       "      <th>_</th>\n",
       "      <th>8.0</th>\n",
       "      <th>_</th>\n",
       "      <th>ANNnewsCH_JapaNews24～海外へ日本のニュースをLIVE配信</th>\n",
       "      <th>Fu2etwHzcvw</th>\n",
       "      <th>_</th>\n",
       "      <th>5ae829f1dc958f02ca4111cf</th>\n",
       "    </tr>\n",
       "    <tr>\n",
       "      <th rowspan=\"9\" valign=\"top\">한국</th>\n",
       "      <th rowspan=\"2\" valign=\"top\">N</th>\n",
       "      <th rowspan=\"2\" valign=\"top\">7.0</th>\n",
       "      <th>2018-05-03 00:00:00</th>\n",
       "      <th>MBN LIVE / 뉴스&amp;이슈</th>\n",
       "      <th>UXBmXW4l7NE</th>\n",
       "      <th>_</th>\n",
       "      <th>5aeae88d0dba33484622a964</th>\n",
       "    </tr>\n",
       "    <tr>\n",
       "      <th>2018-05-07 00:00:00</th>\n",
       "      <th>[MBN LIVE / 뉴스와이드]</th>\n",
       "      <th>Xiohm4T8pe4</th>\n",
       "      <th>_</th>\n",
       "      <th>5af020f1dc958f67ea439c89</th>\n",
       "    </tr>\n",
       "    <tr>\n",
       "      <th rowspan=\"4\" valign=\"top\">Y</th>\n",
       "      <th>0.0</th>\n",
       "      <th>_</th>\n",
       "      <th>[KBS LIVE] 사실을 넘어 진실을 찾는 뉴스</th>\n",
       "      <th>A9K-7AVG2i4</th>\n",
       "      <th>_</th>\n",
       "      <th>5ae8293adc958f02ca4111ce</th>\n",
       "    </tr>\n",
       "    <tr>\n",
       "      <th>4.0</th>\n",
       "      <th>_</th>\n",
       "      <th>YTN LIVE</th>\n",
       "      <th>aR8Fe1lTKHo</th>\n",
       "      <th>_</th>\n",
       "      <th>5ae5c64edc958f46df1ad478</th>\n",
       "    </tr>\n",
       "    <tr>\n",
       "      <th>5.0</th>\n",
       "      <th>_</th>\n",
       "      <th>연합뉴스TV 생방송</th>\n",
       "      <th>9ZpwOfKmYk8</th>\n",
       "      <th>_</th>\n",
       "      <th>5ae5c64edc958f46df1ad479</th>\n",
       "    </tr>\n",
       "    <tr>\n",
       "      <th>6.0</th>\n",
       "      <th>_</th>\n",
       "      <th>tbs TV LIVE -실시간 방송보기</th>\n",
       "      <th>qv5_IG_frNg</th>\n",
       "      <th>_</th>\n",
       "      <th>5ae82204dc958f02ca4111cd</th>\n",
       "    </tr>\n",
       "    <tr>\n",
       "      <th rowspan=\"3\" valign=\"top\">_</th>\n",
       "      <th>1.0</th>\n",
       "      <th>2018-05-03 00:00:00</th>\n",
       "      <th>MBC 뉴스데스크</th>\n",
       "      <th>DPoivsd0c3o</th>\n",
       "      <th>_</th>\n",
       "      <th>5ae84f87dc958f02ca4111d2</th>\n",
       "    </tr>\n",
       "    <tr>\n",
       "      <th>2.0</th>\n",
       "      <th>2018-05-03 00:00:00</th>\n",
       "      <th>[SBS LIVE] 새롭게 시작하는 SBS 뉴스</th>\n",
       "      <th>DEqnm1QRowo</th>\n",
       "      <th>https://www.youtube.com/c/sbsnews8/live</th>\n",
       "      <th>5ae8215bdc958f02ca4111cc</th>\n",
       "    </tr>\n",
       "    <tr>\n",
       "      <th>3.0</th>\n",
       "      <th>_</th>\n",
       "      <th>LIVE/JTBC 뉴스</th>\n",
       "      <th>cBzlqcXtKSY</th>\n",
       "      <th>_</th>\n",
       "      <th>5ae84fd6dc958f02ca4111d3</th>\n",
       "    </tr>\n",
       "  </tbody>\n",
       "</table>\n",
       "</div>"
      ],
      "text/plain": [
       "Empty DataFrame\n",
       "Columns: []\n",
       "Index: [(뉴스, 동아시아, 일본, _, 8.0, _, ANNnewsCH_JapaNews24～海外へ日本のニュースをLIVE配信, Fu2etwHzcvw, _, 5ae829f1dc958f02ca4111cf), (뉴스, 동아시아, 한국, N, 7.0, 2018-05-03 00:00:00, MBN LIVE / 뉴스&이슈, UXBmXW4l7NE, _, 5aeae88d0dba33484622a964), (뉴스, 동아시아, 한국, N, 7.0, 2018-05-07 00:00:00, [MBN LIVE / 뉴스와이드], Xiohm4T8pe4, _, 5af020f1dc958f67ea439c89), (뉴스, 동아시아, 한국, Y, 0.0, _, [KBS LIVE] 사실을 넘어 진실을 찾는 뉴스, A9K-7AVG2i4, _, 5ae8293adc958f02ca4111ce), (뉴스, 동아시아, 한국, Y, 4.0, _, YTN LIVE, aR8Fe1lTKHo, _, 5ae5c64edc958f46df1ad478), (뉴스, 동아시아, 한국, Y, 5.0, _, 연합뉴스TV 생방송, 9ZpwOfKmYk8, _, 5ae5c64edc958f46df1ad479), (뉴스, 동아시아, 한국, Y, 6.0, _, tbs TV LIVE -실시간 방송보기, qv5_IG_frNg, _, 5ae82204dc958f02ca4111cd), (뉴스, 동아시아, 한국, _, 1.0, 2018-05-03 00:00:00, MBC 뉴스데스크, DPoivsd0c3o, _, 5ae84f87dc958f02ca4111d2), (뉴스, 동아시아, 한국, _, 2.0, 2018-05-03 00:00:00, [SBS LIVE] 새롭게 시작하는 SBS 뉴스, DEqnm1QRowo, https://www.youtube.com/c/sbsnews8/live, 5ae8215bdc958f02ca4111cc), (뉴스, 동아시아, 한국, _, 3.0, _, LIVE/JTBC 뉴스, cBzlqcXtKSY, _, 5ae84fd6dc958f02ca4111d3)]"
      ]
     },
     "execution_count": 5,
     "metadata": {},
     "output_type": "execute_result"
    }
   ],
   "source": [
    "df.groupby(신규저장후_확인용_유투브영상_컬럼순서).count()"
   ]
  },
  {
   "cell_type": "code",
   "execution_count": 6,
   "metadata": {
    "scrolled": false
   },
   "outputs": [
    {
     "data": {
      "text/html": [
       "<div>\n",
       "<style scoped>\n",
       "    .dataframe tbody tr th:only-of-type {\n",
       "        vertical-align: middle;\n",
       "    }\n",
       "\n",
       "    .dataframe tbody tr th {\n",
       "        vertical-align: top;\n",
       "    }\n",
       "\n",
       "    .dataframe thead th {\n",
       "        text-align: right;\n",
       "    }\n",
       "</style>\n",
       "<table border=\"1\" class=\"dataframe\">\n",
       "  <thead>\n",
       "    <tr style=\"text-align: right;\">\n",
       "      <th></th>\n",
       "      <th></th>\n",
       "      <th></th>\n",
       "      <th></th>\n",
       "      <th></th>\n",
       "      <th></th>\n",
       "      <th></th>\n",
       "      <th></th>\n",
       "      <th></th>\n",
       "      <th></th>\n",
       "    </tr>\n",
       "    <tr>\n",
       "      <th>분류</th>\n",
       "      <th>지역</th>\n",
       "      <th>24h_live</th>\n",
       "      <th>우선순위</th>\n",
       "      <th>날짜</th>\n",
       "      <th>국가</th>\n",
       "      <th>영상명</th>\n",
       "      <th>url_id</th>\n",
       "      <th>youtube_url</th>\n",
       "      <th>_id</th>\n",
       "    </tr>\n",
       "  </thead>\n",
       "  <tbody>\n",
       "    <tr>\n",
       "      <th rowspan=\"4\" valign=\"top\">뉴스</th>\n",
       "      <th rowspan=\"4\" valign=\"top\">동아시아</th>\n",
       "      <th rowspan=\"4\" valign=\"top\">Y</th>\n",
       "      <th>0.0</th>\n",
       "      <th>_</th>\n",
       "      <th>한국</th>\n",
       "      <th>[KBS LIVE] 사실을 넘어 진실을 찾는 뉴스</th>\n",
       "      <th>A9K-7AVG2i4</th>\n",
       "      <th>_</th>\n",
       "      <th>5ae8293adc958f02ca4111ce</th>\n",
       "    </tr>\n",
       "    <tr>\n",
       "      <th>4.0</th>\n",
       "      <th>_</th>\n",
       "      <th>한국</th>\n",
       "      <th>YTN LIVE</th>\n",
       "      <th>aR8Fe1lTKHo</th>\n",
       "      <th>_</th>\n",
       "      <th>5ae5c64edc958f46df1ad478</th>\n",
       "    </tr>\n",
       "    <tr>\n",
       "      <th>5.0</th>\n",
       "      <th>_</th>\n",
       "      <th>한국</th>\n",
       "      <th>연합뉴스TV 생방송</th>\n",
       "      <th>9ZpwOfKmYk8</th>\n",
       "      <th>_</th>\n",
       "      <th>5ae5c64edc958f46df1ad479</th>\n",
       "    </tr>\n",
       "    <tr>\n",
       "      <th>6.0</th>\n",
       "      <th>_</th>\n",
       "      <th>한국</th>\n",
       "      <th>tbs TV LIVE -실시간 방송보기</th>\n",
       "      <th>qv5_IG_frNg</th>\n",
       "      <th>_</th>\n",
       "      <th>5ae82204dc958f02ca4111cd</th>\n",
       "    </tr>\n",
       "  </tbody>\n",
       "</table>\n",
       "</div>"
      ],
      "text/plain": [
       "Empty DataFrame\n",
       "Columns: []\n",
       "Index: [(뉴스, 동아시아, Y, 0.0, _, 한국, [KBS LIVE] 사실을 넘어 진실을 찾는 뉴스, A9K-7AVG2i4, _, 5ae8293adc958f02ca4111ce), (뉴스, 동아시아, Y, 4.0, _, 한국, YTN LIVE, aR8Fe1lTKHo, _, 5ae5c64edc958f46df1ad478), (뉴스, 동아시아, Y, 5.0, _, 한국, 연합뉴스TV 생방송, 9ZpwOfKmYk8, _, 5ae5c64edc958f46df1ad479), (뉴스, 동아시아, Y, 6.0, _, 한국, tbs TV LIVE -실시간 방송보기, qv5_IG_frNg, _, 5ae82204dc958f02ca4111cd)]"
      ]
     },
     "execution_count": 6,
     "metadata": {},
     "output_type": "execute_result"
    }
   ],
   "source": [
    "# live라고_구라치는_뉴스의_url_id_변화를_분석\n",
    "df[ df['24h_live']=='Y' ].groupby(['분류','지역','24h_live','우선순위','날짜','국가','영상명','url_id','youtube_url','_id']).count()"
   ]
  },
  {
   "cell_type": "code",
   "execution_count": 35,
   "metadata": {
    "scrolled": false
   },
   "outputs": [
    {
     "data": {
      "text/plain": [
       "\"\\nfrom datetime import datetime\\ndf1 = df[ df.날짜 != '_' ]\\ndf1['날짜'] = df1['날짜'].apply(lambda x: datetime.strptime(x.isoformat()[0:10], '%Y-%m-%d'))\\ndf.update(df1)\\ndf\\n\""
      ]
     },
     "execution_count": 35,
     "metadata": {},
     "output_type": "execute_result"
    }
   ],
   "source": [
    """"\n",
    "from datetime import datetime\n",
    "df1 = df[ df.날짜 != '_' ]\n",
    "df1['날짜'] = df1['날짜'].apply(lambda x: datetime.strptime(x.isoformat()[0:10], '%Y-%m-%d'))\n",
    "df.update(df1)\n",
    "df\n",
    """""
   ]
  },
  {
   "cell_type": "code",
   "execution_count": null,
   "metadata": {},
   "outputs": [],
   "source": []
  },
  {
   "cell_type": "code",
   "execution_count": null,
   "metadata": {},
   "outputs": [],
   "source": []
  },
  {
   "cell_type": "code",
   "execution_count": null,
   "metadata": {},
   "outputs": [],
   "source": []
  },
  {
   "cell_type": "code",
   "execution_count": 17,
   "metadata": {},
   "outputs": [
    {
     "data": {
      "text/plain": [
       "['분류', '지역']"
      ]
     },
     "execution_count": 17,
     "metadata": {},
     "output_type": "execute_result"
    }
   ],
   "source": [
    "where = {\n",
    "    '분류':'뉴스',\n",
    "    '지역':'동아시아',\n",
    "#    '국가':'미국',\n",
    "}\n",
    "list(where)"
   ]
  },
  {
   "cell_type": "code",
   "execution_count": 19,
   "metadata": {},
   "outputs": [
    {
     "data": {
      "text/plain": [
       "['분류',\n",
       " '지역',\n",
       " '국가',\n",
       " '우선순위',\n",
       " '24h_live',\n",
       " '날짜',\n",
       " '영상명',\n",
       " 'url_id',\n",
       " 'youtube_url',\n",
       " '_id']"
      ]
     },
     "execution_count": 19,
     "metadata": {},
     "output_type": "execute_result"
    }
   ],
   "source": [
    "유투브영상_컬럼순서 = ['분류','지역','국가','우선순위','24h_live','날짜','영상명','url_id','youtube_url','_id']\n",
    "li = lh.리스트1로부터_리스트2를_제거(유투브영상_컬럼순서, list(where))\n",
    "li = list(where) + li\n",
    "li"
   ]
  },
  {
   "cell_type": "code",
   "execution_count": null,
   "metadata": {},
   "outputs": [],
   "source": [
    "print(df.columns)"
   ]
  },
  {
   "cell_type": "code",
   "execution_count": 22,
   "metadata": {},
   "outputs": [],
   "source": [
    "\n",
    "#유투브영상_컬럼순서 = ['분류','지역','국가','영상명','우선순위','24h_live','url_id','youtube_url','날짜','_id']\n",
    "\n",
    "#df.reindex(columns=유투브영상_컬럼순서)\n",
    "#.sort_values('우선순위')"
   ]
  },
  {
   "cell_type": "code",
   "execution_count": null,
   "metadata": {},
   "outputs": [],
   "source": [
    "[MBN LIVE / 뉴스와이드]"
   ]
  }
 ],
 "metadata": {
  "kernelspec": {
   "display_name": "Python 3",
   "language": "python",
   "name": "python3"
  },
  "language_info": {
   "codemirror_mode": {
    "name": "ipython",
    "version": 3
   },
   "file_extension": ".py",
   "mimetype": "text/x-python",
   "name": "python",
   "nbconvert_exporter": "python",
   "pygments_lexer": "ipython3",
   "version": "3.6.4"
  }
 },
 "nbformat": 4,
 "nbformat_minor": 2
}
