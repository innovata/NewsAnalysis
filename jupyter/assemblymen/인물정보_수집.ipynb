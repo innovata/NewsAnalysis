{
 "cells": [
  {
   "cell_type": "code",
   "execution_count": 1,
   "metadata": {},
   "outputs": [],
   "source": [
    "# 오픈 모듈\n",
    "import pandas as pd\n",
    "import requests\n",
    "from bs4 import BeautifulSoup\n",
    "\n",
    "# 공용 라이브러리\n",
    "import sys\n",
    "sys.path.append('/Users/sambong/p/lib/')\n",
    "import __pymongo as mg\n",
    "\n",
    "# 프로젝트 라이브러리\n",
    "from News_ import data_path, db명, db\n",
    "\n",
    "# 전역변수"
   ]
  },
  {
   "cell_type": "code",
   "execution_count": 28,
   "metadata": {},
   "outputs": [],
   "source": [
    "def 네이버_인물검색_수집후_저장(query_name):\n",
    "    \n",
    "    def 네이버_인물검색_수집(query_name):\n",
    "        url = 'https://people.search.naver.com/search.naver?'\n",
    "        querystring = {\n",
    "            'where': 'nexearch',\n",
    "            'query': query_name,\n",
    "#            'sm': 'tab_etc',\n",
    "            'ie': 'utf8',\n",
    "            'key': 'PeopleService',\n",
    "#            'os': '99419'\n",
    "        }\n",
    "        r = requests.get(url, params=querystring)\n",
    "        return r\n",
    "    \n",
    "    def 메인_프로파일_파싱(soup):\n",
    "        profile = {}\n",
    "\n",
    "        soup1 = soup.find(attrs={\"class\": \"who\"})\n",
    "        if soup1 == None:\n",
    "            print('\"{}\"에 대한 검색결과가 없습니다.'.format(query_name))\n",
    "            return None\n",
    "        else:\n",
    "            profile['이름'] = soup1.find(attrs={\"class\": \"name\"}).get_text().strip()\n",
    "            profile['메인경력'] = soup1.find(attrs={\"class\": \"sub\"}).get_text().strip()\n",
    "            profile['나이'] = soup1.find(attrs={\"class\": \"dft\"}).get_text().strip()\n",
    "\n",
    "            soup2 = soup.find(attrs={\"class\": \"dsc\"})\n",
    "            keys = [e.get_text().strip() for e in soup2.find_all('dt')]\n",
    "            values = [e.get_text().strip() for e in soup2.find_all('dd')]\n",
    "            for i in range(4):\n",
    "                profile[keys[i]] = values[i]\n",
    "            return profile\n",
    "    \n",
    "    def 경력_파싱(soup):\n",
    "        # 아직 필요성을 못 느껴서 보류.\n",
    "        soup = soup.find(attrs={\"class\": \"record_wrap\"})\n",
    "        print(soup)\n",
    "    \n",
    "    r = 네이버_인물검색_수집(query_name)\n",
    "    if r.status_code == 200:\n",
    "        soup = BeautifulSoup(r.text, 'html.parser')\n",
    "        profile_dic = 메인_프로파일_파싱(soup)\n",
    "        if profile_dic != None:\n",
    "            \n",
    "            # 저장, 백업\n",
    "            tbl명='인물정보'\n",
    "            db[tbl명].insert_one(profile_dic)\n",
    "            mg.테이블의_중복제거(db명, tbl명, where=None, subset=None)\n",
    "            mg.테이블의_백업csv_생성(db명, tbl명, data_path)\n",
    "    else:\n",
    "        print('\"{}\"에 대한 네이버 응답은 코드는 \"{}\".'.format(query_name, r.status_code))"
   ]
  },
  {
   "cell_type": "code",
   "execution_count": 22,
   "metadata": {},
   "outputs": [],
   "source": [
    "name_li = list(pd.DataFrame(list( db.트위터_팔로잉_이름.find({},{'name':1, '_id':False}) )).name)"
   ]
  },
  {
   "cell_type": "code",
   "execution_count": 29,
   "metadata": {},
   "outputs": [
    {
     "name": "stdout",
     "output_type": "stream",
     "text": [
      "\"Anna Fifield\"에 대한 검색결과가 없습니다.\n",
      "\"Barack Obama\"에 대한 검색결과가 없습니다.\n",
      "\"Donald J. Trump\"에 대한 검색결과가 없습니다.\n",
      "\"Hillary Clinton\"에 대한 검색결과가 없습니다.\n",
      "\"고민정\"에 대한 검색결과가 없습니다.\n",
      "\"고용노동부 장관 김영주\"에 대한 검색결과가 없습니다.\n",
      "\"국회의원 이용호\"에 대한 검색결과가 없습니다.\n",
      "\"권성동\"에 대한 검색결과가 없습니다.\n",
      "\"김경진의원실\"에 대한 검색결과가 없습니다.\n",
      "\"김관영\"에 대한 검색결과가 없습니다.\n",
      "\"김동철\"에 대한 검색결과가 없습니다.\n",
      "\"김무성\"에 대한 검색결과가 없습니다.\n",
      "\"김문수\"에 대한 검색결과가 없습니다.\n",
      "\"김미화\"에 대한 검색결과가 없습니다.\n",
      "\"김어준\"에 대한 검색결과가 없습니다.\n",
      "\"김용민\"에 대한 검색결과가 없습니다.\n",
      "\"김진애\"에 대한 검색결과가 없습니다.\n",
      "\"김진태\"에 대한 검색결과가 없습니다.\n",
      "\"나경원(새누리당 동작을 국회의원)\"에 대한 검색결과가 없습니다.\n",
      "\"남경필\"에 대한 검색결과가 없습니다.\n",
      "\"남양주(병)의 최민희\"에 대한 검색결과가 없습니다.\n",
      "\"남양주갑과 더불어 조응천\"에 대한 검색결과가 없습니다.\n",
      "\"노회찬\"에 대한 검색결과가 없습니다.\n",
      "\"문성근\"에 대한 검색결과가 없습니다.\n",
      "\"문재인\"에 대한 검색결과가 없습니다.\n",
      "\"민경욱\"에 대한 검색결과가 없습니다.\n",
      "\"민병주 의원실\"에 대한 검색결과가 없습니다.\n",
      "\"민주와 평화는 하나! 이해찬 국회의원실\"에 대한 검색결과가 없습니다.\n",
      "\"박범계\"에 대한 검색결과가 없습니다.\n",
      "\"박주민과 더민주\"에 대한 검색결과가 없습니다.\n",
      "\"박지원\"에 대한 검색결과가 없습니다.\n",
      "\"손금주\"에 대한 검색결과가 없습니다.\n",
      "\"손정은\"에 대한 검색결과가 없습니다.\n",
      "\"신경민 SHIN,Kyoung-min\"에 대한 검색결과가 없습니다.\n",
      "\"심상정\"에 대한 검색결과가 없습니다.\n",
      "\"안민석 더불어민주당 국회의원\"에 대한 검색결과가 없습니다.\n",
      "\"안철수\"에 대한 검색결과가 없습니다.\n",
      "\"안희정\"에 대한 검색결과가 없습니다.\n",
      "\"유승민\"에 대한 검색결과가 없습니다.\n",
      "\"유시민\"에 대한 검색결과가 없습니다.\n",
      "\"윤상현\"에 대한 검색결과가 없습니다.\n",
      "\"이언주 / 광명(을) 국회의원\"에 대한 검색결과가 없습니다.\n",
      "\"이완영\"에 대한 검색결과가 없습니다.\n",
      "\"이인제\"에 대한 검색결과가 없습니다.\n",
      "\"이재명\"에 대한 검색결과가 없습니다.\n",
      "\"이재오\"에 대한 검색결과가 없습니다.\n",
      "\"임종석\"에 대한 검색결과가 없습니다.\n",
      "\"자유한국당 서울시당 디지털위원회\"에 대한 검색결과가 없습니다.\n",
      "\"전병헌\"에 대한 검색결과가 없습니다.\n",
      "\"정동영\"에 대한 검색결과가 없습니다.\n",
      "\"정봉주\"에 대한 검색결과가 없습니다.\n",
      "\"정우택\"에 대한 검색결과가 없습니다.\n",
      "\"정청래와 더불어민주당\"에 대한 검색결과가 없습니다.\n",
      "\"조국\"에 대한 검색결과가 없습니다.\n",
      "\"주진우\"에 대한 검색결과가 없습니다.\n",
      "\"주호영\"에 대한 검색결과가 없습니다.\n",
      "\"진선미와 더불어 민주당\"에 대한 검색결과가 없습니다.\n",
      "\"채이배(바른미래당, 비례)\"에 대한 검색결과가 없습니다.\n",
      "\"천정배\"에 대한 검색결과가 없습니다.\n",
      "\"최경환\"에 대한 검색결과가 없습니다.\n",
      "\"최문순\"에 대한 검색결과가 없습니다.\n",
      "\"최승호\"에 대한 검색결과가 없습니다.\n",
      "\"추미애\"에 대한 검색결과가 없습니다.\n",
      "\"표창원\"에 대한 검색결과가 없습니다.\n",
      "\"하태경\"에 대한 검색결과가 없습니다.\n",
      "\"홍익표(민주당 중구성동갑 국회의원)\"에 대한 검색결과가 없습니다.\n",
      "\"홍정욱 Jungwook Hong\"에 대한 검색결과가 없습니다.\n",
      "\"홍준표 Junpyo Hong\"에 대한 검색결과가 없습니다.\n"
     ]
    }
   ],
   "source": [
    "for name in name_li:\n",
    "    네이버_인물검색_수집후_저장(name)"
   ]
  },
  {
   "cell_type": "code",
   "execution_count": 24,
   "metadata": {},
   "outputs": [],
   "source": [
    "url = 'https://people.search.naver.com/search.naver?'\n",
    "querystring = {\n",
    "    'where': 'nexearch',\n",
    "    'query': '권성동',\n",
    "#    'sm': 'tab_etc',\n",
    "    'ie': 'utf8',\n",
    "    'key': 'PeopleService',\n",
    "#    'os': '99419'\n",
    "}\n",
    "r = requests.get(url, params=querystring)"
   ]
  },
  {
   "cell_type": "code",
   "execution_count": 25,
   "metadata": {},
   "outputs": [
    {
     "data": {
      "text/plain": [
       "200"
      ]
     },
     "execution_count": 25,
     "metadata": {},
     "output_type": "execute_result"
    }
   ],
   "source": [
    "r.status_code"
   ]
  },
  {
   "cell_type": "code",
   "execution_count": 27,
   "metadata": {},
   "outputs": [
    {
     "data": {
      "text/html": [
       "<div>\n",
       "<style scoped>\n",
       "    .dataframe tbody tr th:only-of-type {\n",
       "        vertical-align: middle;\n",
       "    }\n",
       "\n",
       "    .dataframe tbody tr th {\n",
       "        vertical-align: top;\n",
       "    }\n",
       "\n",
       "    .dataframe thead th {\n",
       "        text-align: right;\n",
       "    }\n",
       "</style>\n",
       "<table border=\"1\" class=\"dataframe\">\n",
       "  <thead>\n",
       "    <tr style=\"text-align: right;\">\n",
       "      <th></th>\n",
       "      <th>_id</th>\n",
       "      <th>가족</th>\n",
       "      <th>나이</th>\n",
       "      <th>메인경력</th>\n",
       "      <th>사이트</th>\n",
       "      <th>소속</th>\n",
       "      <th>이름</th>\n",
       "      <th>출생</th>\n",
       "    </tr>\n",
       "  </thead>\n",
       "  <tbody>\n",
       "    <tr>\n",
       "      <th>0</th>\n",
       "      <td>5aea1cb5dc958ff8f9201fbb</td>\n",
       "      <td>배우자 김미경, 아버지 안영모</td>\n",
       "      <td>57세 (만 56세)</td>\n",
       "      <td>전 국회의원</td>\n",
       "      <td>블로그, 트위터, 페이스북, 유튜브, 인스타그램, 네이버포스트, 카카오스토리, 플러스친구</td>\n",
       "      <td>바른미래당</td>\n",
       "      <td>안철수</td>\n",
       "      <td>1962년 2월 26일</td>\n",
       "    </tr>\n",
       "  </tbody>\n",
       "</table>\n",
       "</div>"
      ],
      "text/plain": [
       "                        _id                가족           나이    메인경력  \\\n",
       "0  5aea1cb5dc958ff8f9201fbb  배우자 김미경, 아버지 안영모  57세 (만 56세)  전 국회의원   \n",
       "\n",
       "                                                 사이트     소속   이름            출생  \n",
       "0  블로그, 트위터, 페이스북, 유튜브, 인스타그램, 네이버포스트, 카카오스토리, 플러스친구  바른미래당  안철수  1962년 2월 26일  "
      ]
     },
     "execution_count": 27,
     "metadata": {},
     "output_type": "execute_result"
    }
   ],
   "source": [
    "pd.DataFrame(list( db.인물정보.find() ))"
   ]
  },
  {
   "cell_type": "code",
   "execution_count": null,
   "metadata": {},
   "outputs": [],
   "source": []
  }
 ],
 "metadata": {
  "kernelspec": {
   "display_name": "Python 3",
   "language": "python",
   "name": "python3"
  },
  "language_info": {
   "codemirror_mode": {
    "name": "ipython",
    "version": 3
   },
   "file_extension": ".py",
   "mimetype": "text/x-python",
   "name": "python",
   "nbconvert_exporter": "python",
   "pygments_lexer": "ipython3",
   "version": "3.6.4"
  }
 },
 "nbformat": 4,
 "nbformat_minor": 2
}
